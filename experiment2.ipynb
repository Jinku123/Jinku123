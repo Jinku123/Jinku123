{
 "cells": [
  {
   "cell_type": "markdown",
   "metadata": {},
   "source": [
    "# 实验二 Python变量、简单数据类型\n",
    "\n",
    "班级： 21计科1班\n",
    "\n",
    "学号： B20210302101\n",
    "\n",
    "姓名： 金库\n",
    "\n",
    "Github地址：(https://gitee.com/jinku111/jinku111.git)\n",
    "\n",
    "CodeWars地址：(https://www.codewars.com/users/Jinku123)\n",
    "\n",
    "---\n",
    "\n",
    "## 实验目的\n",
    "\n",
    "1. 使用VSCode编写和运行Python程序\n",
    "2. 学习Python变量和简单数据类型\n",
    "\n",
    "## 实验环境\n",
    "\n",
    "1. Git\n",
    "2. Python 3.10\n",
    "3. VSCode\n",
    "4. VSCode插件\n",
    "\n",
    "## 实验内容和步骤\n",
    "\n",
    "### 第一部分\n",
    "\n",
    "实验环境的安装\n",
    "\n",
    "1. 安装Python，从Python官网下载Python 3.10安装包，下载后直接点击可以安装：[Python官网地址](https://www.python.org/downloads/)\n",
    "2. 为了在VSCode集成环境下编写和运行Python程序，安装下列VScode插件\n",
    "   - Python\n",
    "   - Python Environment Manager\n",
    "   - Python Indent\n",
    "   - Python Extended\n",
    "   - Python Docstring Generator\n",
    "   - Jupyter\n",
    "   - indent-rainbow\n",
    "   - Jinja\n",
    "\n",
    "---\n",
    "\n",
    "### 第二部分\n",
    "\n",
    "Python变量、简单数据类型和列表简介\n",
    "\n",
    "完成教材《Python编程从入门到实践》下列章节的练习：\n",
    "\n",
    "- 第2章 变量和简单数据类型\n",
    "\n",
    "---\n",
    "### 第三部分\n",
    "\n",
    "在[Codewars网站](https://www.codewars.com)注册账号，完成下列Kata挑战：\n",
    "\n",
    "---\n",
    "\n",
    "#### 第1题：求离整数n最近的平方数（Find Nearest square number）\n",
    "\n",
    "难度：8kyu\n",
    "\n",
    "你的任务是找到一个正整数n的最近的平方数\n",
    "例如，如果n=111，那么nearest_sq(n)（nearestSq(n)）等于121，因为111比100（10的平方）更接近121（11的平方）。\n",
    "如果n已经是完全平方（例如n=144，n=81，等等），你需要直接返回n。\n",
    "代码提交地址\n",
    "<https://www.codewars.com/kata/5a805d8cafa10f8b930005ba>\n",
    "\n",
    "---\n",
    "\n",
    "#### 第2题：弹跳的球（Bouncing Balls）\n",
    "\n",
    "难度：6kyu\n",
    "\n",
    "一个孩子在一栋高楼的第N层玩球。这层楼离地面的高度h是已知的。他把球从窗口扔出去。球弹了起来,  例如:弹到其高度的三分之二（弹力为0.66）。他的母亲从离地面w米的窗户向外看,母亲会看到球在她的窗前经过多少次（包括球下落和反弹的时候）？\n",
    "\n",
    "一个有效的实验必须满足三个条件：\n",
    "\n",
    "- 参数 \"h\"（米）必须大于0\n",
    "- 参数 \"bounce \"必须大于0且小于1\n",
    "- 参数 “window \"必须小于h。\n",
    "\n",
    "如果以上三个条件都满足，返回一个正整数，否则返回-1。\n",
    "**注意:只有当反弹球的高度严格大于窗口参数时，才能看到球。**\n",
    "代码提交地址\n",
    "<https://www.codewars.com/kata/5544c7a5cb454edb3c000047/train/python>\n",
    "\n",
    "---\n",
    "\n",
    "#### 第3题： 元音统计(Vowel Count)\n",
    "\n",
    "难度： 7kyu\n",
    "\n",
    "返回给定字符串中元音的数量（计数）。对于这个Kata，我们将考虑a、e、i、o、u作为元音（但不包括y）。输入的字符串将只由小写字母和/或空格组成。\n",
    "\n",
    "代码提交地址：\n",
    "<https://www.codewars.com/kata/54ff3102c1bad923760001f3>\n",
    "\n",
    "---\n",
    "\n",
    "#### 第4题：偶数或者奇数（Even or Odd）\n",
    "\n",
    "难度：8kyu\n",
    "\n",
    "创建一个函数接收一个整数作为参数，当整数为偶数时返回”Even”当整数位奇数时返回”Odd”。\n",
    "代码提交地址：\n",
    "<https://www.codewars.com/kata/53da3dbb4a5168369a0000fe>\n",
    "### 第四部分\n",
    "\n",
    "使用Mermaid绘制程序流程图\n",
    "\n",
    "安装Mermaid的VSCode插件：\n",
    "\n",
    "- Markdown Preview Mermaid Support\n",
    "- Mermaid Markdown Syntax Highlighting\n",
    "\n",
    "使用Markdown语法绘制你的程序绘制程序流程图（至少一个），Markdown代码如下：\n",
    "\n",
    "![程序流程图](/Experiments/img/2023-08-05-22-00-00.png)\n",
    "\n",
    "显示效果如下：\n",
    "\n",
    "```mermaid\n",
    "flowchart LR\n",
    "    A[Start] --> B{Is it?}\n",
    "    B -->|Yes| C[OK]\n",
    "    C --> D[Rethink]\n",
    "    D --> B\n",
    "    B ---->|No| E[End]\n",
    "```\n",
    "\n",
    "\n",
    "\n",
    "查看Mermaid流程图语法-->[点击这里](https://mermaid.js.org/syntax/flowchart.html)\n",
    "\n",
    "使用Markdown编辑器（例如VScode）编写本次实验的实验报告，包括[实验过程与结果](#实验过程与结果)、[实验考查](#实验考查)和[实验总结](#实验总结)，并将其导出为 **PDF格式** 来提交。"
   ]
  },
  {
   "cell_type": "markdown",
   "metadata": {},
   "source": [
    "## 实验过程与结果\n",
    "\n",
    "请将实验过程与结果放在这里，包括：\n",
    "\n",
    "- [第二部分 Python变量、简单数据类型和列表简介](#第二部分)"
   ]
  },
  {
   "cell_type": "code",
   "execution_count": 2,
   "metadata": {},
   "outputs": [
    {
     "name": "stdout",
     "output_type": "stream",
     "text": [
      "hello\n"
     ]
    }
   ],
   "source": [
    "message=\"hello\" //2.1   \n",
    "print(message)"
   ]
  },
  {
   "cell_type": "code",
   "execution_count": 1,
   "metadata": {},
   "outputs": [
    {
     "name": "stdout",
     "output_type": "stream",
     "text": [
      "hello\n",
      "hello world\n"
     ]
    }
   ],
   "source": [
    "message=\"hello\"   //2.2\n",
    "print(message)\n",
    "message=\"hello world\"\n",
    "print(message)"
   ]
  },
  {
   "cell_type": "markdown",
   "metadata": {},
   "source": [
    "练习2.3:个性化消息用变量表示一个人的名字，并向其显示一条消息。显示的消息应非常简单，如下所示。\n",
    "HelloEric, would you liketolearn somePython today?"
   ]
  },
  {
   "cell_type": "code",
   "execution_count": 5,
   "metadata": {},
   "outputs": [
    {
     "name": "stdout",
     "output_type": "stream",
     "text": [
      "Hello Eric, would you like to learn some Python today?\n"
     ]
    }
   ],
   "source": [
    "name = \"Eric\"\n",
    "message = f\"Hello {name}, would you like to learn some Python today?\"\n",
    "print(message)"
   ]
  },
  {
   "cell_type": "markdown",
   "metadata": {},
   "source": [
    "练习2.4:调整名字的大小写用变量表示一个人的名字，再分别以全小写、全大写和首字母大写的方式显示这个人名。"
   ]
  },
  {
   "cell_type": "code",
   "execution_count": 5,
   "metadata": {},
   "outputs": [
    {
     "name": "stdout",
     "output_type": "stream",
     "text": [
      "eric\n",
      "ERIC\n",
      "Eric\n"
     ]
    }
   ],
   "source": [
    "name = \"Eric\"\n",
    "print(name.lower())  # 全小写\n",
    "print(name.upper())  # 全大写\n",
    "print(name.title())  # 首字母大写"
   ]
  },
  {
   "cell_type": "markdown",
   "metadata": {},
   "source": [
    "练习2.5:名言1找到你钦佩的名人说的一句名言，将这个名人的姓名和名言打印出来。输出应类似于下面这样(包括引号)。\n",
    "AlbertEinstein once said,\" A person who never made a mistake never triedany thing new.\""
   ]
  },
  {
   "cell_type": "code",
   "execution_count": 31,
   "metadata": {},
   "outputs": [
    {
     "name": "stdout",
     "output_type": "stream",
     "text": [
      "Albert Einstein once said, \"A person who never made a mistake never tried anything new.\"\n"
     ]
    }
   ],
   "source": [
    "famous_person = \"Albert Einstein\"\n",
    "quote = \"A person who never made a mistake never tried anything new.\"\n",
    "message = f\"{famous_person} once said, \\\"{quote}\\\"\"\n",
    "print(message)"
   ]
  },
  {
   "cell_type": "markdown",
   "metadata": {},
   "source": [
    "练习2.6:名言2重复练习2.5，但用变量famous_person表示名人的姓名，再创建要显示的消息并将其赋给变量message "
   ]
  },
  {
   "cell_type": "code",
   "execution_count": 9,
   "metadata": {},
   "outputs": [
    {
     "name": "stdout",
     "output_type": "stream",
     "text": [
      "famous_person once said, \"A person who never made a mistake never tried anything new.\"\n"
     ]
    }
   ],
   "source": [
    "person = \"famous_person\"\n",
    "quote = \"A person who never made a mistake never tried anything new.\"\n",
    "message = f\"{person} once said, \\\"{quote}\\\"\"\n",
    "print(message)"
   ]
  },
  {
   "cell_type": "markdown",
   "metadata": {},
   "source": [
    "练习2.7:删除人名中的空白用变量表示一个人的名字，并在其开头和末尾都包含一些空白字符。务必至少使用字符组合\"\\t\"和\"\\n\"各一次。\n",
    "打印这个人名，显示其开头和末尾的空白。然后，分别使用函数lstrip()、rstrip()和strip()对人名进行处理，并将结果打印出来。"
   ]
  },
  {
   "cell_type": "code",
   "execution_count": 25,
   "metadata": {},
   "outputs": [
    {
     "name": "stdout",
     "output_type": "stream",
     "text": [
      "原始人名：'   jinku   '\n",
      "删除开头和末尾的空白：'jinku'\n",
      "删除左端的空白：'jinku   '\n",
      "删除右端的空白：'   jinku'\n"
     ]
    }
   ],
   "source": [
    "name = \"   jinku   \"\n",
    "print(f\"原始人名：'{name}'\")\n",
    "print(f\"删除开头和末尾的空白：'{name.strip()}'\")\n",
    "print(f\"删除左端的空白：'{name.lstrip()}'\")\n",
    "print(f\"删除右端的空白：'{name.rstrip()}'\")"
   ]
  },
  {
   "cell_type": "markdown",
   "metadata": {},
   "source": [
    "练习2.8:文件扩展名Python提供了removesuffix()方法，其工作原理与removeprefix()\n",
    "很像。请将值\n",
    "'python_notes.txt'赋给变量filename，再使用removesuffix()方法来显示不包含扩展名的文件名，就像文件浏览器所做的那\n",
    "样。"
   ]
  },
  {
   "cell_type": "code",
   "execution_count": 24,
   "metadata": {},
   "outputs": [
    {
     "name": "stdout",
     "output_type": "stream",
     "text": [
      "python_notes\n"
     ]
    }
   ],
   "source": [
    "filename='python_notes.txt'\n",
    "#print(filename.removeprefix('py'))，删除前缀\n",
    "print(filename.removesuffix('.txt'))#原来的值不变，删除后缀"
   ]
  },
  {
   "cell_type": "markdown",
   "metadata": {},
   "source": [
    "练习2.9:数字8编写4个表达式，分别使用加法、减法、乘法和除法运算，但结果都是数字8。为了使用函数调用print(来显示结果，务必将这些表达式用括号括起来。"
   ]
  },
  {
   "cell_type": "code",
   "execution_count": 27,
   "metadata": {},
   "outputs": [
    {
     "name": "stdout",
     "output_type": "stream",
     "text": [
      "8\n",
      "8\n",
      "8\n",
      "8\n"
     ]
    }
   ],
   "source": [
    "print(5 + 3)\n",
    "print(10 - 2)\n",
    "print(4 * 2)\n",
    "print(16 // 2)"
   ]
  },
  {
   "cell_type": "markdown",
   "metadata": {},
   "source": [
    "练习2.10:最喜欢的数用一个变量来表示你最喜欢的数，再使用这个变量创建一条消息，指出你最喜欢的数是什么，然后将这条消息打印出来。"
   ]
  },
  {
   "cell_type": "code",
   "execution_count": 28,
   "metadata": {},
   "outputs": [
    {
     "name": "stdout",
     "output_type": "stream",
     "text": [
      "My favorite number is 11.\n"
     ]
    }
   ],
   "source": [
    "favorite_number = 11\n",
    "message=f\"My favorite number is {favorite_number}.\"\n",
    "print(message)"
   ]
  },
  {
   "cell_type": "markdown",
   "metadata": {},
   "source": [
    "练习2.11:添加注释选择你编写的两个程序，在每个程序中至少添加一条注释。如果程序太简单，实在没有什么需要说明的，就在程序文件开头加上你的姓名和当\n",
    "前日期，再用一句话阐述程序的功能。"
   ]
  },
  {
   "cell_type": "code",
   "execution_count": 9,
   "metadata": {},
   "outputs": [
    {
     "name": "stdout",
     "output_type": "stream",
     "text": [
      "Hello, ! Nice to meet you.\n"
     ]
    }
   ],
   "source": [
    "# Program: Greeting\n",
    "# Author: John Doe\n",
    "# Date: October 1, 2023\n",
    "# Description: This program greets the user and asks for their name, then prints a personalized greeting.\n",
    "\n",
    "# Prompt the user for their name\n",
    "name = input(\"What is your name? \")\n",
    "\n",
    "# Print a personalized greeting\n",
    "print(f\"Hello, {name}! Nice to meet you.\")"
   ]
  },
  {
   "cell_type": "markdown",
   "metadata": {},
   "source": [
    "练习2.12:Python之禅在Python终端会话中执行命令importthis，并粗略地浏\n",
    "览一下其他指导原则。"
   ]
  },
  {
   "cell_type": "code",
   "execution_count": 29,
   "metadata": {},
   "outputs": [
    {
     "name": "stdout",
     "output_type": "stream",
     "text": [
      "The Zen of Python, by Tim Peters\n",
      "\n",
      "Beautiful is better than ugly.\n",
      "Explicit is better than implicit.\n",
      "Simple is better than complex.\n",
      "Complex is better than complicated.\n",
      "Flat is better than nested.\n",
      "Sparse is better than dense.\n",
      "Readability counts.\n",
      "Special cases aren't special enough to break the rules.\n",
      "Although practicality beats purity.\n",
      "Errors should never pass silently.\n",
      "Unless explicitly silenced.\n",
      "In the face of ambiguity, refuse the temptation to guess.\n",
      "There should be one-- and preferably only one --obvious way to do it.\n",
      "Although that way may not be obvious at first unless you're Dutch.\n",
      "Now is better than never.\n",
      "Although never is often better than *right* now.\n",
      "If the implementation is hard to explain, it's a bad idea.\n",
      "If the implementation is easy to explain, it may be a good idea.\n",
      "Namespaces are one honking great idea -- let's do more of those!\n"
     ]
    }
   ],
   "source": [
    "import this"
   ]
  },
  {
   "cell_type": "markdown",
   "metadata": {},
   "source": [
    "- [第三部分 Codewars Kata挑战](#第三部分)"
   ]
  },
  {
   "cell_type": "code",
   "execution_count": 6,
   "metadata": {},
   "outputs": [],
   "source": [
    " #第一题 \n",
    "import math      \n",
    "def nearest_sq(n):\n",
    "    k=math.sqrt(n)\n",
    "    s=math.isqrt(n)\n",
    "    if 1.0*k>=s+0.5:\n",
    "        return ((s+1)**2)\n",
    "    else :\n",
    "        return (s**2)\n",
    "    "
   ]
  },
  {
   "cell_type": "code",
   "execution_count": 7,
   "metadata": {},
   "outputs": [],
   "source": [
    "#第二题\n",
    "def bouncing_ball(h, bounce, window):\n",
    "    if h<=0 or bounce<=0 or bounce>=1 or window >=h:\n",
    "        return -1\n",
    "    count=0\n",
    "    while h > window:\n",
    "        count +=1\n",
    "        h *= bounce\n",
    "        if h>window:\n",
    "            count+=1\n",
    "    return count\n"
   ]
  },
  {
   "cell_type": "code",
   "execution_count": 8,
   "metadata": {},
   "outputs": [],
   "source": [
    "def get_count(Str):  #第三题\n",
    "    num =0\n",
    "    for i in range(len(Str)):\n",
    "        if Str[i] == 'a' or Str[i] == 'e' or Str[i] == 'i' or Str[i] == 'o' or Str[i] == 'u':\n",
    "                num= num +1\n",
    "    return num"
   ]
  },
  {
   "cell_type": "markdown",
   "metadata": {},
   "source": [
    "```mermaid\n",
    "flowchart LR\n",
    "      \n",
    "    A[Start] --> B[num=0,i=0]\n",
    "    B -->C{i++,i小于str长度?} \n",
    "    C -->|YES|D{当前字符=a?}\n",
    "    C -->|YES|E{当前字符=e?}\n",
    "    C -->|YES|F{当前字符=i?}\n",
    "    C -->|YES|G{当前字符=o?}\n",
    "    C -->|NO|I\n",
    "   \n",
    "   D -->|YES| H[num++]\n",
    "    E -->|YES| H[num++]\n",
    "    F -->|YES| H[num++]\n",
    "    G -->|YES| H[num++]\n",
    "    \n",
    "    \n",
    "    D -->|NO| C\n",
    "    E-->|NO| C\n",
    "    F -->|NO| C\n",
    "    G -->|NO| C\n",
    "\n",
    "    H-->I[return num]\n",
    "    I-->J[END]\n",
    " \n",
    "       \n",
    "    \n",
    "```"
   ]
  },
  {
   "cell_type": "code",
   "execution_count": 34,
   "metadata": {},
   "outputs": [],
   "source": [
    "def even_or_odd(n):  #第四题\n",
    "    if n&1==1:\n",
    "        return \"Odd\"\n",
    "    else:\n",
    "        return \"Even\""
   ]
  },
  {
   "cell_type": "markdown",
   "metadata": {},
   "source": [
    "```mermaid\n",
    "flowchart LR\n",
    "    A[Start] --> B{n%2==1?}\n",
    "    B -->|Yes| C[return Odd]\n",
    "    B -->|No| D[return Even]\n",
    "    C-->E[End]\n",
    "    D-->E[End]\n",
    "```"
   ]
  },
  {
   "cell_type": "markdown",
   "metadata": {},
   "source": [
    "- [第四部分 使用Mermaid绘制程序流程图](#第四部分)"
   ]
  },
  {
   "cell_type": "markdown",
   "metadata": {},
   "source": [
    "## 实验考查\n",
    "\n",
    "请使用自己的语言并使用尽量简短代码示例回答下面的问题，这些问题将在实验检查时用于提问和答辩以及实际的操作。\n",
    "\n",
    "1. Python中的简单数据类型有那些？我们可以对这些数据类型做哪些操作？\n",
    "   \n",
    "    在Python中，常见的简单数据类型包括：\n",
    "    1.整数（int）如加法、减法、乘法、除法等\n",
    "    2.浮点数（float）算术运算\n",
    "    3.布尔值（bool）逻辑运算，如与（and）、或（or）、非（not）等\n",
    "    4.字符串（str）字符串拼接、索引、切片等操作\n",
    "   对于这些数据类型，我们可以进行以下操作：\n",
    "   另外：(1) 所有的数据类型都可以进行比较操作，如相等比较（==）、不等比较（!=）、大于比较（>）、小于比较（<）等。\n",
    "   (2)可以使用内置函数来转换数据类型，如int()将其他类型转换为整数，float()将其他类型转换为浮点数，str()将其他类型转换为字符串等。\n",
    "\n",
    "1. 为什么说Python中的变量都是标签？\n",
    "\n",
    "   在Python中，变量可以被看作是标签，因为它们只是对内存中某个对象的引用。当我们为一个对象创建一个变量时，实际上是在给这个对象贴上一个标签，以便我们可以通过标签来引用该对象。\n",
    "\n",
    "2. 有哪些方法可以提高Python代码的可读性？\n",
    "   \n",
    "   以下是一些可以提高Python代码可读性的方法：\n",
    "   使用有意义的变量名，添加注释，缩进和空格\n",
    "   \n",
    "## 实验总结\n",
    "在这次实验中，我学习和使用了以下知识和技能：\n",
    "1. 编程工具的使用：我使用了Python作为编程语言，并使用了Python的集成开发环境来编写和运行代码。\n",
    "2. 数据结构：我学习了Python中变量和数据类型。我了解了它们的特点、用法和操作。\n",
    "3. 程序语言的语法：我熟悉了Python的语法规则，包括变量的定义和赋值、条件语句、循环语句等。我学会了如何正确地使用这些语法来编写有效的程序。\n",
    "\n",
    "通过这次实验，我不仅学到了很多新知识，还提高了自己的编程能力和解决问题的能力。我发现编程是一种创造性的工作，通过编写代码，我可以将自己的想法和解决方案变成现实。我也意识到编程是一个不断学习和提升的过程，我会继续努力学习和实践，以提高自己的编程水平。"
   ]
  }
 ],
 "metadata": {
  "kernelspec": {
   "display_name": "Python 3",
   "language": "python",
   "name": "python3"
  },
  "language_info": {
   "codemirror_mode": {
    "name": "ipython",
    "version": 3
   },
   "file_extension": ".py",
   "mimetype": "text/x-python",
   "name": "python",
   "nbconvert_exporter": "python",
   "pygments_lexer": "ipython3",
   "version": "3.11.5"
  },
  "orig_nbformat": 4
 },
 "nbformat": 4,
 "nbformat_minor": 2
}
